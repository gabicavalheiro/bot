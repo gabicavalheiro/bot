{
 "cells": [
  {
   "cell_type": "code",
   "execution_count": 5,
   "metadata": {},
   "outputs": [
    {
     "name": "stdout",
     "output_type": "stream",
     "text": [
      "A cor não foi encontrada na tela.\n"
     ]
    }
   ],
   "source": [
    "import pyautogui\n",
    "\n",
    "def find_color_on_screen(target_color):\n",
    "    # Tira uma screenshot da tela\n",
    "    screenshot = pyautogui.screenshot()\n",
    "\n",
    "    # Obtém as dimensões da imagem\n",
    "    width, height = screenshot.size\n",
    "\n",
    "    # Percorre os pixels da imagem em busca da cor alvo\n",
    "    for x in range(width):\n",
    "        for y in range(height):\n",
    "            pixel_color = screenshot.getpixel((x, y))\n",
    "            if pixel_color == target_color:\n",
    "                # Retorna as coordenadas do pixel quando a cor é encontrada\n",
    "                return x, y\n",
    "\n",
    "    # Se a cor não for encontrada, retorna None\n",
    "    return None\n",
    "\n",
    "\n",
    "def find_color_on_screen2(target2_color):\n",
    "    # Tira uma screenshot da tela\n",
    "    screenshot = pyautogui.screenshot()\n",
    "\n",
    "    # Obtém as dimensões da imagem\n",
    "    width, height = screenshot.size\n",
    "\n",
    "    # Percorre os pixels da imagem em busca da cor alvo\n",
    "    for x in range(width):\n",
    "        for y in range(height):\n",
    "            pixel_color = screenshot.getpixel((x, y))\n",
    "            if pixel_color == target2_color:\n",
    "                # Retorna as coordenadas do pixel quando a cor é encontrada\n",
    "                return x, y\n",
    "\n",
    "    # Se a cor não for encontrada, retorna None\n",
    "    return None\n",
    "\n",
    "# Exemplo de uso\n",
    "target_color = (219, 219, 209)\n",
    "target2_color = (232, 190, 87 )\n",
    "pixel_coordinates = find_color_on_screen(target_color)\n",
    "pixel_coordinates2 = find_color_on_screen(target2_color)\n",
    "\n",
    "if pixel_coordinates:\n",
    "    print(f\"A cor foi encontrada nas coordenadas: {pixel_coordinates}\")\n",
    "    print(f\"A cor 2 foi encontrada nas coordenadas: {pixel_coordinates}\")\n",
    "else:\n",
    "    print(\"A cor não foi encontrada na tela.\")"
   ]
  }
 ],
 "metadata": {
  "kernelspec": {
   "display_name": "Python 3",
   "language": "python",
   "name": "python3"
  },
  "language_info": {
   "codemirror_mode": {
    "name": "ipython",
    "version": 3
   },
   "file_extension": ".py",
   "mimetype": "text/x-python",
   "name": "python",
   "nbconvert_exporter": "python",
   "pygments_lexer": "ipython3",
   "version": "3.12.0"
  }
 },
 "nbformat": 4,
 "nbformat_minor": 2
}
